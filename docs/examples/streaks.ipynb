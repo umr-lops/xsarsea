{
 "cells": [
  {
   "cell_type": "markdown",
   "id": "0ec839c8-2e2e-4fb6-8290-a475c46dd40b",
   "metadata": {},
   "source": [
    "# Streaks analysis\n",
    "\n",
    "Streaks analysis is done by [Koch (20004)](https://www.climate-service-center.de/imperia/md/content/gkss/institut_fuer_kuestenforschung/ksd/paper/kochw_ieee_2004.pdf) algorithm implementation.\n"
   ]
  },
  {
   "cell_type": "code",
   "execution_count": null,
   "id": "60c69cc5-7b69-48d1-93fd-8376d0901696",
   "metadata": {},
   "outputs": [],
   "source": [
    "# import needed modules\n",
    "import xsar\n",
    "import xsarsea\n",
    "import xsarsea.gradients\n",
    "import bokeh.io\n",
    "bokeh.io.output_notebook()\n",
    "import holoviews as hv\n",
    "hv.extension('bokeh')\n",
    "import xarray as xr\n",
    "import numpy as np\n",
    "import scipy"
   ]
  },
  {
   "cell_type": "code",
   "execution_count": null,
   "id": "a23d4113-e828-4844-910f-d95f33d15400",
   "metadata": {},
   "outputs": [],
   "source": [
    "# open a file a 100m (IW_GRDH pixel size is 10m, so we use resolution=10)\n",
    "filename = xsar.get_test_file('S1A_IW_GRDH_1SDV_20170907T103020_20170907T103045_018268_01EB76_Z010.SAFE')\n",
    "sar_ds = xsar.open_dataset(filename,resolution={'atrack':10,'xtrack':10}).isel(atrack=slice(20,None,None),xtrack=slice(20,None,None)) # isel to skip bad image edge\n",
    "\n",
    "# add detrended sigma0\n",
    "sar_ds['sigma0_detrend'] = xsarsea.sigma0_detrend(sar_ds.sigma0, sar_ds.incidence)\n",
    "\n",
    "# apply land mask\n",
    "land_mask = sar_ds['land_mask'].compute()\n",
    "sar_ds['sigma0_detrend'] = xr.where(land_mask, np.nan, sar_ds['sigma0_detrend']).transpose(*sar_ds['sigma0_detrend'].dims).compute()\n"
   ]
  },
  {
   "cell_type": "markdown",
   "id": "e6828ce4-2912-4a36-9ca9-54cc0dded693",
   "metadata": {},
   "source": [
    "## Simple gradients analysis\n",
    "\n",
    "Simple gradient analysis is done with [xsarsea.gradients.Gradients](../basic_api.rst#xsarsea.gradients.Gradients)\n",
    "\n",
    "Here, we merge the gradient analysis with the original dataset. 'grad_dir' and 'grad_weigth' variables will be added.\n",
    "This is easy, because the default for [xsarsea.gradients.Gradients.main_gradients](../basic_api.rst#xsarsea.gradients.Gradients.main_gradients) is to interpolate gradients on the original grid."
   ]
  },
  {
   "cell_type": "code",
   "execution_count": null,
   "id": "48c67fad-ee2a-4892-866c-29872e340851",
   "metadata": {},
   "outputs": [],
   "source": [
    "sar_ds = xr.merge([sar_ds, xsarsea.gradients.Gradients(sar_ds['sigma0_detrend']).main_gradients()])\n",
    "sar_ds"
   ]
  },
  {
   "cell_type": "markdown",
   "id": "7bb49de9-9bd8-4cce-bbab-021d00f235be",
   "metadata": {},
   "source": [
    "## Multi scale and multi resolution gradients analysis\n",
    "\n",
    "[xsarsea.gradients.MultiGradients](../basic_api.rst#xsarsea.gradients.MultiGradients) can be used to compute gradients at differents scale and resolution.\n",
    "\n",
    "Original `sigma0` pixel spacing is 100m. We can use `downscale_factors=[1,2,4]` to downscale it to 100m, 200m, and 400m, and use `windows_sizes=[160, 240, 320]` to use a sliding windows of 16km, 24km and 32km.\n",
    "\n",
    "`window_step=1` refer to the smallest window overlaping, so there will be no overlap for the 16km window, but the overlaping for other windows will be 24-16=8km and 32-16=16km. \n",
    "\n",
    "with `interpolate=False`, streaks are not interpolated on the original grid, so they can't be merged into the orginal dataset (check the dimensions sizes)."
   ]
  },
  {
   "cell_type": "code",
   "execution_count": null,
   "id": "9a192074-93bb-415b-abc1-7ffe415de0b1",
   "metadata": {},
   "outputs": [],
   "source": [
    "streaks = xsarsea.gradients.MultiGradients(sar_ds['sigma0_detrend'],downscale_factors=[1,2,4], windows_sizes=[160, 320, 480], window_step=1)\n",
    "\n",
    "streaks_ds = streaks.main_gradients(method='max', interpolate=False)\n",
    "streaks_ds"
   ]
  },
  {
   "cell_type": "markdown",
   "id": "741bad40-b8b3-4403-ac07-655e04a2b819",
   "metadata": {},
   "source": [
    "## Digging into MultiGradients\n",
    "\n",
    "[xsarsea.gradients.MultiGradientsViewer](../basic_api.rst#xsarsea.gradients.MultiGradientsViewer) can be used to dig interactively with a `MultiGradient` instance.\n",
    "\n",
    "Note that this require a live notebook, and can't be fully used from the html example page.\n",
    "\n",
    "This is currently work in progress, more work is needed to provide an understandable figure ..."
   ]
  },
  {
   "cell_type": "code",
   "execution_count": null,
   "id": "160708e9-9cbc-49b4-a704-a284a1e90760",
   "metadata": {},
   "outputs": [],
   "source": [
    "xsarsea.gradients.MultiGradientsViewer(streaks).all_view"
   ]
  },
  {
   "cell_type": "markdown",
   "id": "341bd4e5-674c-4f57-ba5f-af9d7744daf9",
   "metadata": {},
   "source": [
    "Many gradients where found. Some are probably aligned with streaks, but others certainly not.\n",
    "\n",
    "For each position, we can compute the direction stdev, and the mean weight."
   ]
  },
  {
   "cell_type": "code",
   "execution_count": null,
   "id": "18bb63df-c6dc-45da-ab85-aebda59207cf",
   "metadata": {},
   "outputs": [],
   "source": [
    "\n",
    "streaks_ds['grad_dir_std'] = xr.zeros_like(streaks_ds['grad_dir']).isel(pol=0,downscale_factor=0,window_size=0)\n",
    "streaks_ds['grad_dir_std'].values = scipy.stats.circstd(streaks_ds['grad_dir'].values,high=90, low=-90, axis=(0,1,2), nan_policy='omit')\n",
    "\n",
    "(\n",
    "    hv.QuadMesh(streaks_ds['grad_dir_std']).opts(cmap='bmy', title='dir stdev') + \\\n",
    "    hv.QuadMesh(np.mean(streaks_ds['grad_weight'], axis=(0,1,2))).opts(cmap='viridis', title='mean weight')\n",
    ").opts(hv.opts.QuadMesh(frame_width=400, frame_height=400, tools=['hover']))\n"
   ]
  },
  {
   "cell_type": "markdown",
   "id": "bfc9a22c-336d-452b-a855-c235af02cddf",
   "metadata": {},
   "source": [
    "We can try to select the best weight from all computed gradients, and compare them to the one computed at 100m with 16km window size, on crosspol."
   ]
  },
  {
   "cell_type": "code",
   "execution_count": null,
   "id": "4a4e2262-c349-49af-af60-6151387bf8af",
   "metadata": {},
   "outputs": [],
   "source": [
    "# best streaks\n",
    "idx = streaks_ds['grad_weight'].fillna(0).argmax(('pol','downscale_factor', 'window_size'))\n",
    "best_streaks = streaks_ds.isel(pol=idx['pol'],downscale_factor=idx['downscale_factor'], window_size=idx['window_size'])\n",
    "best_streaks['grad_dir_rad'] = xr.ufuncs.deg2rad(best_streaks['grad_dir'])\n",
    "\n",
    "# streaks at 100m, crosspol\n",
    "streaks_cross_100 = streaks_ds.sel(pol='VH',downscale_factor=1, window_size=160)\n",
    "streaks_cross_100['grad_dir_rad'] = xr.ufuncs.deg2rad(streaks_cross_100['grad_dir'])\n",
    "\n",
    "\n",
    "clim = tuple([np.nanpercentile(streaks.sigma0.sel(pol='VH'), l) for l in [5,95]])\n",
    "\n",
    "(\n",
    "    hv.Image(streaks.sigma0.sel(pol='VH')).opts(cmap='gray',clim=clim) * \\\n",
    "    hv.VectorField(best_streaks, vdims=['grad_dir_rad','grad_weight'], label='corrected').opts(color='r') * \\\n",
    "    hv.VectorField(streaks_cross_100, vdims=['grad_dir_rad','grad_weight'], label='100m 16km cr').opts(color='y') \n",
    ").opts(hv.opts.VectorField(arrow_heads=False, pivot='mid', scale=0.4, line_width=3)).opts(frame_width=800, frame_height=800)"
   ]
  },
  {
   "cell_type": "markdown",
   "id": "fd6df209-71a0-4f7f-8d30-01f4090609ae",
   "metadata": {},
   "source": [
    "Above figure show that some correction in the left lower corner are probaly good. But some others are probably worse than the original solution ..\n",
    "\n",
    "More work is needed !"
   ]
  }
 ],
 "metadata": {
  "kernelspec": {
   "display_name": "Python 3",
   "language": "python",
   "name": "python3"
  },
  "language_info": {
   "codemirror_mode": {
    "name": "ipython",
    "version": 3
   },
   "file_extension": ".py",
   "mimetype": "text/x-python",
   "name": "python",
   "nbconvert_exporter": "python",
   "pygments_lexer": "ipython3",
   "version": "3.9.4"
  }
 },
 "nbformat": 4,
 "nbformat_minor": 5
}
