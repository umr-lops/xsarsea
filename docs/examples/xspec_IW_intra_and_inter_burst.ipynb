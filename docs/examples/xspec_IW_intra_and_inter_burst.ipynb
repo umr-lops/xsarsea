{
 "cells": [
  {
   "cell_type": "markdown",
   "id": "bd95fe88-ffa7-48c0-b61a-0571d821d89c",
   "metadata": {},
   "source": [
    "# SAR Sentinel-1 cross spectrum computation from large image Interferometric Wide-swath SLC"
   ]
  },
  {
   "cell_type": "code",
   "execution_count": null,
   "id": "cf979161-8004-4b17-b722-ed7ba722027d",
   "metadata": {
    "tags": []
   },
   "outputs": [],
   "source": [
    "slc_iw_path = '/home/datawork-cersat-public/cache/project/mpc-sentinel1/data/esa/sentinel-1a/L1/IW/S1A_IW_SLC__1S/2022/127/S1A_IW_SLC__1SDV_20220507T162411_20220507T162439_043107_0525DE_734D.SAFE/measurement/s1a-iw1-slc-vv-20220507t162411-20220507t162439-043107-0525de-004.tiff'\n",
    "slc_iw_path = '/home/datawork-cersat-public/project/mpc-sentinel1/data/esa/sentinel-1a/L1/IW/S1A_IW_SLC__1S/2022/264/S1A_IW_SLC__1SDV_20220921T063225_20220921T063252_045099_05639C_D284.SAFE/measurement/s1a-iw2-slc-vv-20220921t063225-20220921t063251-045099-05639c-005.tiff'"
   ]
  },
  {
   "cell_type": "code",
   "execution_count": null,
   "id": "1dc1c48f-ef44-4875-a8c1-0475efd2c1be",
   "metadata": {
    "tags": []
   },
   "outputs": [],
   "source": [
    "import xsarsea\n",
    "import os\n",
    "import xsar\n",
    "import xsarsea.sar_slc.processing as proc\n",
    "import warnings\n",
    "warnings.simplefilter(action='ignore', category=FutureWarning)\n",
    "warnings.filterwarnings(\"ignore\")"
   ]
  },
  {
   "cell_type": "markdown",
   "id": "84c1d418-a654-40ac-b3d3-83274d7f8fa1",
   "metadata": {},
   "source": [
    "## get datatree mapping of the SLC product"
   ]
  },
  {
   "cell_type": "code",
   "execution_count": null,
   "id": "4c0ac48d-d87e-41a1-85bd-542bb67db323",
   "metadata": {
    "tags": []
   },
   "outputs": [],
   "source": [
    "imagette_number = os.path.basename(slc_iw_path).split('-')[1].replace('iw', '')\n",
    "fullpathsafeSLC = os.path.dirname(os.path.dirname(slc_iw_path))\n",
    "str_gdal = 'SENTINEL1_DS:%s:IW%s' % (fullpathsafeSLC, imagette_number)\n",
    "xsarobj = xsar.Sentinel1Dataset(str_gdal)\n",
    "xsarobj.add_high_resolution_variables()\n",
    "# dt = xsar.open_datatree(slc_iw_path)\n",
    "dt = xsarobj.datatree\n",
    "dt"
   ]
  },
  {
   "cell_type": "markdown",
   "id": "f065b669-ffa4-4fe1-a8cb-3059dba08761",
   "metadata": {},
   "source": [
    "## cross spectrum in inter bursts parts of the IW product"
   ]
  },
  {
   "cell_type": "code",
   "execution_count": null,
   "id": "3848f415-77f2-4a00-87cf-f3c4928d724e",
   "metadata": {
    "tags": []
   },
   "outputs": [],
   "source": [
    "inter_xs = proc.compute_subswath_interburst_xspectra(dt,nperseg={'sample':512, 'line':115})\n",
    "inter_xs"
   ]
  }
 ],
 "metadata": {
  "kernelspec": {
   "display_name": "Python 3 (ipykernel)",
   "language": "python",
   "name": "python3"
  },
  "language_info": {
   "codemirror_mode": {
    "name": "ipython",
    "version": 3
   },
   "file_extension": ".py",
   "mimetype": "text/x-python",
   "name": "python",
   "nbconvert_exporter": "python",
   "pygments_lexer": "ipython3",
   "version": "3.9.7"
  }
 },
 "nbformat": 4,
 "nbformat_minor": 5
}
