{
 "cells": [
  {
   "cell_type": "markdown",
   "id": "bd95fe88-ffa7-48c0-b61a-0571d821d89c",
   "metadata": {},
   "source": [
    "# SAR Sentinel-1 cross spectrum computation from large image Interferometric Wide-swath SLC"
   ]
  },
  {
   "cell_type": "code",
   "execution_count": null,
   "id": "38239b23-28fd-4db8-ad53-01e2db614304",
   "metadata": {
    "tags": []
   },
   "outputs": [],
   "source": [
    "import xsarsea\n",
    "import os\n",
    "import xsar\n",
    "import logging\n",
    "from importlib import reload\n",
    "reload(logging)\n",
    "logging.basicConfig(level=logging.INFO)\n",
    "logging.info('start notebook')\n",
    "import xsarsea.sar_slc.processing as proc\n",
    "import warnings\n",
    "warnings.simplefilter(action='ignore', category=FutureWarning)\n",
    "warnings.filterwarnings(\"ignore\")"
   ]
  },
  {
   "cell_type": "code",
   "execution_count": null,
   "id": "cf979161-8004-4b17-b722-ed7ba722027d",
   "metadata": {
    "tags": []
   },
   "outputs": [],
   "source": [
    "path = xsar.get_test_file('S1A_IW_SLC__1SDV_20170907T102951_20170907T103021_018268_01EB76_Z020.SAFE')\n",
    "sub_swath_IDs = xsar.Sentinel1Meta(path).subdatasets\n",
    "sub_swath_IDs"
   ]
  },
  {
   "cell_type": "markdown",
   "id": "84c1d418-a654-40ac-b3d3-83274d7f8fa1",
   "metadata": {},
   "source": [
    "## get datatree mapping of the SLC product"
   ]
  },
  {
   "cell_type": "code",
   "execution_count": null,
   "id": "4c0ac48d-d87e-41a1-85bd-542bb67db323",
   "metadata": {
    "tags": []
   },
   "outputs": [],
   "source": [
    "# imagette_number = os.path.basename(slc_iw_path).split('-')[1].replace('iw', '')\n",
    "# fullpathsafeSLC = os.path.dirname(os.path.dirname(slc_iw_path))\n",
    "# str_gdal = 'SENTINEL1_DS:%s:IW%s' % (fullpathsafeSLC, imagette_number)\n",
    "str_gdal = sub_swath_IDs.index[2]\n",
    "print(str_gdal)\n",
    "xsarobj = xsar.Sentinel1Dataset(str_gdal)\n",
    "xsarobj.add_high_resolution_variables()\n",
    "# dt = xsar.open_datatree(slc_iw_path)\n",
    "dt = xsarobj.datatree\n",
    "dt"
   ]
  },
  {
   "cell_type": "markdown",
   "id": "f065b669-ffa4-4fe1-a8cb-3059dba08761",
   "metadata": {},
   "source": [
    "## cross spectrum in inter bursts parts of the IW product"
   ]
  },
  {
   "cell_type": "code",
   "execution_count": null,
   "id": "3848f415-77f2-4a00-87cf-f3c4928d724e",
   "metadata": {
    "tags": []
   },
   "outputs": [],
   "source": [
    "inter_xs = proc.compute_subswath_interburst_xspectra(dt,nperseg={'sample':512, 'line':110})\n",
    "inter_xs"
   ]
  },
  {
   "cell_type": "markdown",
   "id": "44d6c763-0d2c-4ca7-a57c-db889a8b6180",
   "metadata": {},
   "source": [
    "# cross spectrum in intra bursts parts of the IW product"
   ]
  },
  {
   "cell_type": "code",
   "execution_count": null,
   "id": "8bde6c67-8739-4bb2-8c15-497f46b56f07",
   "metadata": {
    "tags": []
   },
   "outputs": [],
   "source": [
    "intra_xs = proc.compute_subswath_intraburst_xspectra(dt)\n",
    "intra_xs"
   ]
  }
 ],
 "metadata": {
  "kernelspec": {
   "display_name": "Python 3 (ipykernel)",
   "language": "python",
   "name": "python3"
  },
  "language_info": {
   "codemirror_mode": {
    "name": "ipython",
    "version": 3
   },
   "file_extension": ".py",
   "mimetype": "text/x-python",
   "name": "python",
   "nbconvert_exporter": "python",
   "pygments_lexer": "ipython3",
   "version": "3.9.7"
  },
  "toc-autonumbering": true
 },
 "nbformat": 4,
 "nbformat_minor": 5
}
