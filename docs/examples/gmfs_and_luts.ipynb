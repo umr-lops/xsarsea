{
 "cells": [
  {
   "cell_type": "markdown",
   "id": "f00a93d5-f933-45d0-8df4-7848b0992756",
   "metadata": {},
   "source": [
    "# GMFs and LUTs\n",
    "\n",
    "This notebook will show how to use [xsarsea.windspeed.models.Model](../basic_api.rst#xsarsea.windspeed.models.Model)\n",
    "\n",
    "Models are functions (GMF) or lookup table (LUT) that returns a simulated sigma0 from incidence angle, wind speed, and wind direction relative to the antenna.\n",
    " \n",
    "Models are used for wind invertion with [xsarsea.windspeed.invert_from_model](../basic_api.rst#xsarsea.windspeed.invert_from_model), but they also be used independently.\n",
    " \n"
   ]
  },
  {
   "cell_type": "code",
   "execution_count": null,
   "id": "0cf95711-e516-4d82-98fc-f69d82eee303",
   "metadata": {},
   "outputs": [],
   "source": [
    "import xsar\n",
    "from xsarsea import windspeed\n",
    "import xarray as xr\n",
    "import numpy as np\n",
    "import holoviews as hv\n",
    "hv.extension('bokeh')"
   ]
  },
  {
   "cell_type": "code",
   "execution_count": null,
   "id": "27a51045-9315-45f0-b4d4-df3b3cad27ce",
   "metadata": {},
   "outputs": [],
   "source": [
    "# optional debug messages\n",
    "import logging\n",
    "logging.basicConfig()\n",
    "logging.getLogger('xsarsea.windspeed').setLevel(logging.DEBUG) # or .setLevel(logging.INFO)"
   ]
  },
  {
   "cell_type": "markdown",
   "id": "536902b6-f89f-49d7-807b-179f60be230d",
   "metadata": {},
   "source": [
    "## Available models\n",
    "\n",
    "Available models can be retrieved with [xsarsea.windspeed.available_models](../basic_api.rst#xsarsea.windspeed.available_models)"
   ]
  },
  {
   "cell_type": "code",
   "execution_count": null,
   "id": "0fb1af3b-9229-44ed-89aa-101c8f29468b",
   "metadata": {},
   "outputs": [],
   "source": [
    "windspeed.available_models()"
   ]
  },
  {
   "cell_type": "markdown",
   "id": "473e8034-d517-405a-9ca6-1774db35c5fb",
   "metadata": {},
   "source": [
    "### Adding netcdf models (LUT)\n",
    "\n",
    "Netcdf models are not available by default, because they needs to be loaded from external file with [xsarsea.windspeed.register_all_nc_luts](../basic_api.rst#xsarsea.windspeed.register_all_nc_luts)\n"
   ]
  },
  {
   "cell_type": "code",
   "execution_count": null,
   "id": "271b3daa-9f41-49a3-a496-1b4a0a311c84",
   "metadata": {},
   "outputs": [],
   "source": [
    "nc_luts_path = xsar.get_test_file('xsarsea_luts')\n",
    "windspeed.register_all_nc_luts(nc_luts_path)\n",
    "windspeed.available_models()"
   ]
  },
  {
   "cell_type": "markdown",
   "id": "2a4321c1-e185-47a6-bb0d-e4f27dcea819",
   "metadata": {},
   "source": [
    "### Adding Sarwing models (LUT)\n",
    "\n",
    "Sarwing model are not available by default, because they needs to be loaded from external file with [xsarsea.windspeed.register_all_sarwing_luts](../basic_api.rst#xsarsea.windspeed.register_all_sarwing_luts)\n",
    "\n",
    "A basic subset of sarwing lut can be retrieved with `xsar.get_test_file('sarwing_luts_subset')`. \n",
    "\n",
    "To get full sarwing luts, download them from https://cyclobs.ifremer.fr/static/sarwing_datarmor/xsardata/sarwing_luts, or use path `/home/datawork-cersat-public/cache/project/sarwing/GMFS/v1.6` (ifremer only)\n"
   ]
  },
  {
   "cell_type": "code",
   "execution_count": null,
   "id": "85e9e0fd-6b5f-4fd7-a74e-5af3a56bcec6",
   "metadata": {},
   "outputs": [],
   "source": [
    "sarwing_luts_subset_path = xsar.get_test_file('sarwing_luts_subset')\n",
    "windspeed.register_all_sarwing_luts(sarwing_luts_subset_path)\n",
    "windspeed.available_models()"
   ]
  },
  {
   "cell_type": "markdown",
   "id": "e6b10527-aa1f-427c-b7a3-37c1b1441c28",
   "metadata": {},
   "source": [
    "## Using models\n",
    "\n",
    "[Model](../basic_api.rst#xsarsea.windspeed.models.Model) instance can be retrieved with [xsarsea.windspeed.get_model](../basic_api.rst#xsarsea.windspeed.get_model) "
   ]
  },
  {
   "cell_type": "code",
   "execution_count": null,
   "id": "1bf34590-6c73-4743-ae16-35b764ed35e4",
   "metadata": {},
   "outputs": [],
   "source": [
    "cmod5 = windspeed.get_model('cmod5')\n",
    "cmod5"
   ]
  },
  {
   "cell_type": "markdown",
   "id": "a47629ce-9eb3-4cb5-8cc9-1faa911c6887",
   "metadata": {},
   "source": [
    "Models can be used as a regular function because they have a `__call__` method.\n",
    "\n",
    "Argument to `__call__` are `(incidence, wspd, phi)` (phi is optionnal for crosspol lut).\n",
    "\n",
    "If arguments are 1d arrays, output shape will be `(incidence,.size wspd.size, phi.size)`\n",
    "\n",
    "2d arrays input are only implemented for [GmfModel](../basic_api.rst#xsarsea.windspeed.gmfs.GmfModel). The output will have the same shape as the input."
   ]
  },
  {
   "cell_type": "code",
   "execution_count": null,
   "id": "1f3d8e7f-1b5a-4c84-9d1f-fce6dbc846d8",
   "metadata": {},
   "outputs": [],
   "source": [
    "incidence = np.array([25,35,45])\n",
    "wspd = np.array([5, 40])\n",
    "phi = np.array([0, 45, 90])\n",
    "cmod5(incidence, wspd, phi)"
   ]
  },
  {
   "cell_type": "markdown",
   "id": "64375b7e-bb0f-4db1-92ff-3fe51940624f",
   "metadata": {},
   "source": [
    "The full lut can also be retrieved with [Model.to_lut](../basic_api.rst#xsarsea.windspeed.models.Model.to_lut)\n"
   ]
  },
  {
   "cell_type": "code",
   "execution_count": null,
   "id": "e61ccb67-a156-4cdb-9e84-295a8722115b",
   "metadata": {},
   "outputs": [],
   "source": [
    "cmod5.to_lut()"
   ]
  },
  {
   "cell_type": "markdown",
   "id": "7c692f80-5802-430c-837a-dcb2445f8ce8",
   "metadata": {},
   "source": [
    "## Adding models (writing your own GMF)\n",
    "\n",
    "\n",
    "A *Geophysical Modeling Function* (GMF) is a function that return a simulated *sigma0* from wind condition and instrument incidence angle.\n",
    "\n",
    "A new gmf function is registered with the decorator [@xsarsea.windspeed.gmfs.GmfModel.register](../basic_api.rst#xsarsea.windspeed.gmfs.GmfModel.register)\n",
    "\n",
    "To register a new GMF with `xsarsea.windspeed`, you have to follow the following rules:\n",
    "\n",
    "  * parameters are `(incidence, windspeed, phi)`\n",
    "    * `incidence` is in degrees\n",
    "    * `windspeed` is in m/s\n",
    "    * `phi` is wind direction, in degrees, relative to antenna look (0 is downwind in the antenna direction)\n",
    "    \n",
    "       note that `phi` is mandatory. If the gmf doesn't need `phi`, you have to explicitely set `phi=None` kwarg. \n",
    "    \n",
    "  * all parameters must be **float**. numpy array are not allowed. `xsarsea.windspeed` will vectorize the function with numba to allow numpy arrays.\n",
    "  * allowed units are `linear` or `dB`\n",
    "  * function name must start with `gmf_`"
   ]
  },
  {
   "cell_type": "code",
   "execution_count": null,
   "id": "430a3d16-3e29-4730-8ec3-b4a674fc1caf",
   "metadata": {},
   "outputs": [],
   "source": [
    "@windspeed.gmfs.GmfModel.register(pol='VH', units='linear')\n",
    "def gmf_dummy(inc, wspd, phi=None): \n",
    "    a0 = 0.00013106836021008122\n",
    "    a1 = -4.530598283705591e-06\n",
    "    a2 = 4.429277425062766e-08\n",
    "    b0 = 1.3925444179360706\n",
    "    b1 = 0.004157838450541205\n",
    "    b2 = 3.4735809771069953e-05\n",
    "    \n",
    "\n",
    "    a = a0 + a1 * inc + a2 * inc ** 2\n",
    "    b = b0 + b1 * inc + b2 * inc ** 2\n",
    "    \n",
    "    sig = a * wspd ** b\n",
    "\n",
    "    return sig"
   ]
  },
  {
   "cell_type": "code",
   "execution_count": null,
   "id": "ab5d131e-ca80-4095-b24b-511c30c22198",
   "metadata": {},
   "outputs": [],
   "source": [
    "gmf_dummy"
   ]
  },
  {
   "cell_type": "code",
   "execution_count": null,
   "id": "9220a49a-a13e-46ee-b197-e2e851176573",
   "metadata": {},
   "outputs": [],
   "source": [
    "windspeed.available_models()"
   ]
  },
  {
   "cell_type": "code",
   "execution_count": null,
   "id": "adc58f1a-48ed-4f77-9615-15f328dc7530",
   "metadata": {},
   "outputs": [],
   "source": [
    "gmf_dummy.to_lut()"
   ]
  },
  {
   "cell_type": "markdown",
   "id": "f7e56d75-dcff-4433-bf9f-02c95dd396a9",
   "metadata": {},
   "source": [
    "## Model comparison\n",
    "\n",
    "This example function can be used to compare models."
   ]
  },
  {
   "cell_type": "code",
   "execution_count": null,
   "id": "c517464e-7547-4a82-a482-b0062cf0ed23",
   "metadata": {},
   "outputs": [],
   "source": [
    "\n",
    "def model_compare(compare_models):\n",
    "    \n",
    "    luts = [ windspeed.get_model(name).to_lut(units='dB')  for name in compare_models]\n",
    "    \n",
    "    if 'phi' not in luts[0].dims:\n",
    "        kdims=['incidence']\n",
    "        dim_range=dict(incidence=(17,50))\n",
    "    else:\n",
    "        kdims=['incidence', 'phi']\n",
    "        dim_range=dict(incidence=(17,50), phi=(0,360))\n",
    "    \n",
    "    def model_curve(incidence, phi=None):\n",
    "        if 'phi' not in luts[0].dims:\n",
    "            sel = dict(incidence=incidence)\n",
    "        else:\n",
    "            sel = dict(phi=phi, incidence=incidence)\n",
    "        return hv.Overlay(\n",
    "            [\n",
    "                hv.Curve(lut.sel(**sel, method='nearest'),'wspd','sigma0', label=lut.attrs['model']) for lut in luts\n",
    "            ]\n",
    "        )\n",
    "    \n",
    "    \n",
    "    dmap = hv.DynamicMap(model_curve, kdims=kdims).opts(height=600, width=600)\n",
    "    return dmap.redim.range(**dim_range)\n",
    "    \n"
   ]
  },
  {
   "cell_type": "code",
   "execution_count": null,
   "id": "4caf21ce-4b5a-4f95-af84-4442487acfff",
   "metadata": {},
   "outputs": [],
   "source": [
    "windspeed.available_models(pol='VH')"
   ]
  },
  {
   "cell_type": "code",
   "execution_count": null,
   "id": "8672da53-274e-42ed-be1a-72a7a47e8315",
   "metadata": {},
   "outputs": [],
   "source": [
    "model_compare([ 'gmf_dummy', 'sarwing_lut_cmodms1ahw'] )"
   ]
  },
  {
   "cell_type": "code",
   "execution_count": null,
   "id": "4252c3f0-cc0d-43b8-9435-bf820f3bf7f2",
   "metadata": {},
   "outputs": [],
   "source": [
    "windspeed.available_models(pol='VV')"
   ]
  },
  {
   "cell_type": "code",
   "execution_count": null,
   "id": "7c7cd7f8-5915-4fc5-b498-6c88bd36ce32",
   "metadata": {},
   "outputs": [],
   "source": [
    "model_compare([ 'gmf_cmod5n', 'gmf_cmod5'])"
   ]
  },
  {
   "cell_type": "code",
   "execution_count": null,
   "id": "78f4b231-1815-446e-8f0b-afc589e28988",
   "metadata": {},
   "outputs": [],
   "source": []
  }
 ],
 "metadata": {
  "language_info": {
   "name": "python",
   "pygments_lexer": "ipython3"
  }
 },
 "nbformat": 4,
 "nbformat_minor": 5
}
