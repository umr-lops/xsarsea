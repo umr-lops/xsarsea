{
 "cells": [
  {
   "cell_type": "markdown",
   "metadata": {},
   "source": [
    "# Xsarsea example\n",
    "\n",
    "The Normalized Radar Cross Section (sigma0) as computed from Level-1 SAR data can be detrended in the case of ocean scenes. \n",
    "\n",
    "The goal is to remove the averaged trend (decreasing) of the NRCS with (increasing) incidence angle observed for acquisitions over ocean. \n",
    "\n",
    "The detrend maximizes the contrasts in the image due to geophysical phenomena and improves the visualization experience of ocean scenes. sigma0_detrend is also termed **image roughness** or **nice display**."
   ]
  },
  {
   "cell_type": "code",
   "execution_count": null,
   "metadata": {},
   "outputs": [],
   "source": [
    "import xsar\n",
    "import xsarsea\n",
    "import os"
   ]
  },
  {
   "cell_type": "code",
   "execution_count": null,
   "metadata": {},
   "outputs": [],
   "source": [
    "# use holoviews for plots\n",
    "\n",
    "import holoviews as hv\n",
    "hv.extension('bokeh')\n",
    "from holoviews.operation.datashader import datashade,rasterize\n",
    "import datashader as dh"
   ]
  },
  {
   "cell_type": "markdown",
   "metadata": {},
   "source": [
    "## read the dataset with xsar"
   ]
  },
  {
   "cell_type": "code",
   "execution_count": null,
   "metadata": {},
   "outputs": [],
   "source": [
    "# get test file. You can replace with an path to other SAFE\n",
    "filename = xsar.get_test_file('S1A_IW_GRDH_1SDV_20170907T103020_20170907T103045_018268_01EB76_Z010.SAFE')\n",
    "filename"
   ]
  },
  {
   "cell_type": "code",
   "execution_count": null,
   "metadata": {},
   "outputs": [],
   "source": [
    "# open the dataset with xsar\n",
    "sar_ds = xsar.open_dataset(filename, resolution={'atrack':10,'xtrack':10})\n",
    "sar_ds[['sigma0','incidence']]\n"
   ]
  },
  {
   "cell_type": "markdown",
   "metadata": {},
   "source": [
    "## Sigma0 detrending\n",
    "\n",
    "Sigma0 detrending is done by  [xsarsea.sigma0_detrend](../basic_api.rst#xsarsea.sigma0_detrend) function\n",
    "\n",
    "As the resulting xarray dataset have the same coordinates as the original sigma0, we can add a `sigma0_detrend` variable to the dataset."
   ]
  },
  {
   "cell_type": "code",
   "execution_count": null,
   "metadata": {},
   "outputs": [],
   "source": [
    "sar_ds['sigma0_detrend'] = xsarsea.sigma0_detrend(sar_ds.sigma0, sar_ds.incidence)"
   ]
  },
  {
   "cell_type": "code",
   "execution_count": null,
   "metadata": {},
   "outputs": [],
   "source": [
    "rasterize(hv.Image(sar_ds.sigma0.sel(pol='VV')).opts(cmap='gray',colorbar=True,tools=['hover'],title=\"original sigma0\")) + rasterize(hv.Image(sar_ds.sigma0_detrend.sel(pol='VV')).opts(cmap='gray',colorbar=True,tools=['hover'],title=\"detrended sigma0\"))"
   ]
  },
  {
   "cell_type": "markdown",
   "metadata": {},
   "source": [
    "## Wind streaks direction\n",
    "\n",
    "(⚠️work in progress⚠️ )\n",
    "\n",
    "More science work is needed to have better results"
   ]
  },
  {
   "cell_type": "code",
   "execution_count": null,
   "metadata": {},
   "outputs": [],
   "source": [
    "import xsarsea.streaks\n",
    "import xarray as xr"
   ]
  },
  {
   "cell_type": "markdown",
   "metadata": {},
   "source": [
    "Wind streaks detection is done with [xsarsea.streaks.streaks_direction](../basic_api.rst#xsarsea.streaks.streaks_direction)\n",
    "\n",
    "The resulting datarray doesn't have the same shape as `sigma0_detrend`, so it can't be included in the original dataset (or an interpolation is needed)"
   ]
  },
  {
   "cell_type": "code",
   "execution_count": null,
   "metadata": {},
   "outputs": [],
   "source": [
    "streaks_dir = xsarsea.streaks.streaks_direction(\n",
    "    sar_ds['sigma0_detrend'])\n",
    "streaks_dir"
   ]
  },
  {
   "cell_type": "code",
   "execution_count": null,
   "metadata": {},
   "outputs": [],
   "source": [
    "rasterize(hv.Image(sar_ds['sigma0_detrend'].sel(pol='VV'))).opts(cmap='gray',frame_width=400, frame_height=400) * hv.VectorField( xr.ufuncs.deg2rad(streaks_dir.sel(pol='VV'))).opts(arrow_heads=False) "
   ]
  },
  {
   "cell_type": "code",
   "execution_count": null,
   "metadata": {},
   "outputs": [],
   "source": []
  }
 ],
 "metadata": {
  "kernelspec": {
   "display_name": "Python 3",
   "language": "python",
   "name": "python3"
  },
  "language_info": {
   "codemirror_mode": {
    "name": "ipython",
    "version": 3
   },
   "file_extension": ".py",
   "mimetype": "text/x-python",
   "name": "python",
   "nbconvert_exporter": "python",
   "pygments_lexer": "ipython3",
   "version": "3.9.2"
  }
 },
 "nbformat": 4,
 "nbformat_minor": 4
}
