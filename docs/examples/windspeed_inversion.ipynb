{
 "cells": [
  {
   "cell_type": "markdown",
   "id": "e7588254-89c4-4ad0-94d4-df629f2eb94c",
   "metadata": {},
   "source": [
    "# Wind speed invertion\n",
    "\n",
    "This notebook example show how to invert wind speed from sigma0, using models from LUT or GMF, using [xsarsea.windspeed.invert_from_model](../basic_api.rst#xsarsea.windspeed.invert_from_model)"
   ]
  },
  {
   "cell_type": "code",
   "execution_count": null,
   "id": "7136c9bf-eeba-42bc-b255-08cdc5710752",
   "metadata": {},
   "outputs": [],
   "source": [
    "import xsarsea\n",
    "from xsarsea import windspeed\n",
    "import xarray as xr\n",
    "import numpy as np\n",
    "import holoviews as hv\n",
    "hv.extension('bokeh')"
   ]
  },
  {
   "cell_type": "code",
   "execution_count": null,
   "id": "77f0e14b-9f80-4fc2-89e7-19113b6977d3",
   "metadata": {},
   "outputs": [],
   "source": [
    "# optional debug messages\n",
    "import logging\n",
    "logging.basicConfig()\n",
    "logging.getLogger('xsarsea.windspeed').setLevel(logging.DEBUG) # or .setLevel(logging.INFO)"
   ]
  },
  {
   "cell_type": "markdown",
   "id": "19887be3-890a-4071-bb96-07814f9bd474",
   "metadata": {},
   "source": [
    "## Read sarwing owi file\n",
    "\n",
    "download more from https://cyclobs.ifremer.fr/static/sarwing_datarmor/processings/c39e79a/default/reports/shoc_dailyupdate_names/report.html (in the 'safe' column, download files named like `*-owi-xx-*.nc`)"
   ]
  },
  {
   "cell_type": "code",
   "execution_count": null,
   "id": "77630d90-573a-428a-9029-1c3272289879",
   "metadata": {},
   "outputs": [],
   "source": [
    "sarwing_owi_file = xsarsea.get_test_file('s1a-iw-owi-xx-20210909t130650-20210909t130715-039605-04AE83.nc')\n",
    "sarwing_ds = xsarsea.read_sarwing_owi(sarwing_owi_file)\n",
    "sarwing_ds\n",
    "\n"
   ]
  },
  {
   "cell_type": "markdown",
   "id": "4ced9944-f9ba-4fa8-aa95-4e14c49fe0f8",
   "metadata": {},
   "source": [
    "## Get ancillary wind\n",
    "\n",
    "Ecmwf wind is stored in owi file in *geographical* (deg N/S) convention. `xsarsea.windspeed` need it relative to *sample* (ie antenna), as a complex number.\n",
    "\n",
    "We use [xsarsea.dir_geo_to_sample](../basic_api.rst#xsarsea.dir_geo_to_sample) to convert `sarwing_ds.owiEcmwfWindDirection` (deg) to radians, relative to sample, using `sarwing_ds.owiHeading`\n"
   ]
  },
  {
   "cell_type": "code",
   "execution_count": null,
   "id": "a1e03453-5cc6-4395-a998-a9a31224e634",
   "metadata": {},
   "outputs": [],
   "source": [
    "owi_ecmwf_wind = sarwing_ds.owiEcmwfWindSpeed * np.exp(1j* xsarsea.dir_geo_to_sample(sarwing_ds.owiEcmwfWindDirection, sarwing_ds.owiHeading))\n",
    "sarwing_ds = xr.merge([\n",
    "    sarwing_ds,\n",
    "    owi_ecmwf_wind.to_dataset(name='owi_ancillary_wind'),\n",
    "])"
   ]
  },
  {
   "cell_type": "markdown",
   "id": "a88e3200-dd0d-44e0-9760-a9bd9b2a9581",
   "metadata": {},
   "source": [
    "## Ancillary wind control plot\n",
    "\n",
    "### Directions in default convention\n",
    "\n",
    "We check that ancillary wind is correct, by plotting the wind speed, the wind direction, and the wind direction components.\n",
    "\n",
    "The *sample* component increase with *sample* axis, and *line* component increase with *line*.\n",
    "\n",
    "Note that we have to use `kdims=['sample','line']` to properly display the vectorfield, because memory order `['sample','line']` is geographycally transposed "
   ]
  },
  {
   "cell_type": "code",
   "execution_count": null,
   "id": "3cb363c1-f250-4156-ad1c-f257dbcbf768",
   "metadata": {},
   "outputs": [],
   "source": [
    "sub_sarwing_ds = sarwing_ds.isel(line=slice(None, None, 10), sample=slice(None, None, 10))\n",
    "\n",
    "vectorfield = hv.VectorField(\n",
    "    (\n",
    "        sub_sarwing_ds.sample, sub_sarwing_ds.line,\n",
    "        xsarsea.dir_geo_to_sample(sub_sarwing_ds.owiEcmwfWindDirection, sub_sarwing_ds.owiHeading),\n",
    "        sub_sarwing_ds.owiEcmwfWindSpeed\n",
    "    )\n",
    ")\n",
    "\n",
    "owi_ecmwf_wind_sample = np.real(owi_ecmwf_wind)\n",
    "owi_ecmwf_wind_line = np.imag(owi_ecmwf_wind)\n",
    "(\n",
    "    hv.Image(sarwing_ds.owiEcmwfWindSpeed, kdims=['sample','line']).opts(title='speed and dir', clim=(0,50), cmap='jet') * vectorfield\n",
    "    + hv.Image(owi_ecmwf_wind_sample, kdims=['sample','line']).opts(title='sample component',cmap='bwr') * vectorfield\n",
    "    + hv.Image(owi_ecmwf_wind_line, kdims=['sample','line']).opts(title='line component',cmap='bwr') * vectorfield\n",
    ").opts(title='Direction component in standard convention')"
   ]
  },
  {
   "cell_type": "markdown",
   "id": "41d3e477-a0fc-43cb-b356-927339873f8f",
   "metadata": {},
   "source": [
    "### Directions in gmf or lut convention\n",
    "\n",
    "In gmf or lut, the sample wind direction component is **negative** if the wind vector is in the same direction as increasing sample, and line component is  **positive**  if if the wind vector is in the same direction as increasing line.\n",
    "\n",
    "Switching to one convention to another can be done with `-np.conj(complex_dir)`\n",
    "\n",
    "Note that in `xsarsea.windspeed`,  all directions are in **gmf or lut convention**"
   ]
  },
  {
   "cell_type": "code",
   "execution_count": null,
   "id": "6d7ae283-21cd-4e72-9466-7ca0a21279fa",
   "metadata": {},
   "outputs": [],
   "source": [
    "(\n",
    "    hv.Image(sarwing_ds.owiEcmwfWindSpeed, kdims=['sample','line']).opts(title='speed and dir', clim=(0,50), cmap='jet') * vectorfield\n",
    "    + hv.Image(-owi_ecmwf_wind_sample, kdims=['sample','line']).opts(title='sample component',cmap='bwr') * vectorfield\n",
    "    + hv.Image(owi_ecmwf_wind_line, kdims=['sample','line']).opts(title='line component',cmap='bwr') * vectorfield\n",
    ").opts(title='Direction component in gmf or lut convention')"
   ]
  },
  {
   "cell_type": "markdown",
   "id": "b4128cac-1f6c-4db0-a3ed-4908fa3ec7ee",
   "metadata": {},
   "source": [
    "## Copol inversion\n",
    "\n",
    "Copol wind inversion, using model and ancillary wind"
   ]
  },
  {
   "cell_type": "code",
   "execution_count": null,
   "id": "499ad90a-2d90-4a16-a016-cb3d55c7d23d",
   "metadata": {},
   "outputs": [],
   "source": [
    "windspeed_co = windspeed.invert_from_model(\n",
    "        sarwing_ds.owiIncidenceAngle,\n",
    "        sarwing_ds.owiNrcs,\n",
    "        ancillary_wind = -np.conj(sarwing_ds.owi_ancillary_wind),\n",
    "        model='cmod5n')\n"
   ]
  },
  {
   "cell_type": "markdown",
   "id": "089780fa-aeab-4b28-b39c-55f5c221e205",
   "metadata": {},
   "source": [
    "## differences with sarwing"
   ]
  },
  {
   "cell_type": "code",
   "execution_count": null,
   "id": "81eaaaa8-8b07-4669-8b2e-2afd0c310e35",
   "metadata": {},
   "outputs": [],
   "source": [
    "windspeed_diff =np.abs(windspeed_co) - sarwing_ds.owiWindSpeed_Tab_copol\n",
    "(\n",
    "    (\n",
    "        hv.Image(np.abs(windspeed_co), kdims=['sample','line']).opts(title='xsarsea') \n",
    "        + hv.Image(sarwing_ds.owiWindSpeed_Tab_copol, kdims=['sample','line']).opts(title='sarwing' )\n",
    "    ).opts(hv.opts.Image(cmap='jet', clim=(0,50))) \n",
    "    + hv.Image(windspeed_diff, kdims=['sample','line']).opts(cmap='jet', clim=(-0.5,0.5), title='xsarsea-sarwing\\nmean=%.4f std=%.4f' % (np.mean(windspeed_diff), np.std(windspeed_diff)))\n",
    ").opts(hv.opts.Image(colorbar=True, tools=['hover']))"
   ]
  },
  {
   "cell_type": "markdown",
   "id": "20a4a4cc-d209-4062-961f-0a6420c0fba4",
   "metadata": {},
   "source": [
    "## Crosspol inversion\n",
    "\n",
    "Sarwing crosspol inversion is done with model `cmodms1ahw`, that is only available from lut.\n",
    "\n",
    "So we use [xsarsea.windspeed.register_all_nc_luts](../basic_api.rst#xsarsea.windspeed.register_all_nc_luts) to register this lut.\n"
   ]
  },
  {
   "cell_type": "code",
   "execution_count": null,
   "id": "3a772aa1-48e5-4654-aeb7-d655d51f7c71",
   "metadata": {},
   "outputs": [],
   "source": [
    "nc_luts_path = xsarsea.get_test_file('xsarsea_luts')\n",
    "windspeed.register_all_nc_luts(nc_luts_path)"
   ]
  },
  {
   "cell_type": "markdown",
   "id": "0cb5a5ef-2af6-4a38-9830-6f2152f9703e",
   "metadata": {},
   "source": [
    "To match sarwing outputs, we will flatten `sarwing_ds.owiNesz_cross` with [xsarsea.windspeed.nesz_flattening](../basic_api.rst#xsarsea.windspeed.nesz_flattening) , and compute `dsig_cr`"
   ]
  },
  {
   "cell_type": "code",
   "execution_count": null,
   "id": "4d5fe397-05a8-460b-afc3-5ddbebbf80c3",
   "metadata": {},
   "outputs": [],
   "source": [
    "# nesz cross flattening, and dsig_cr\n",
    "nesz_cross_flat = windspeed.nesz_flattening(sarwing_ds.owiNesz_cross, sarwing_ds.owiIncidenceAngle)\n",
    "dsig_cr = (1.25 / (sarwing_ds.owiNrcs_cross / nesz_cross_flat )) ** 4.\n",
    "\n",
    "windspeed_cr = windspeed.invert_from_model(\n",
    "        sarwing_ds.owiIncidenceAngle,\n",
    "        sarwing_ds.owiNrcs_cross,\n",
    "        dsig_cr=dsig_cr,\n",
    "        model='cmodms1ahw')\n",
    "windspeed_cr = np.abs(windspeed_cr)"
   ]
  },
  {
   "cell_type": "code",
   "execution_count": null,
   "id": "21eba4e7-0d3a-4c6b-a161-e5e92aa59d6d",
   "metadata": {},
   "outputs": [],
   "source": [
    "windspeed_diff = windspeed_cr - sarwing_ds.owiWindSpeed_Tab_crosspol\n",
    "(\n",
    "    (hv.Image(windspeed_cr).opts(title='xsarsea') + hv.Image(sarwing_ds.owiWindSpeed_Tab_crosspol).opts(title='sarwing' )).opts(hv.opts.Image(cmap='jet', clim=(0,50))) +  \n",
    "    hv.Image(windspeed_diff).opts(cmap='jet', clim=(-0.2,0.2), title='xsarsea-sarwing')\n",
    ").opts(hv.opts.Image(colorbar=True, tools=['hover']))"
   ]
  },
  {
   "cell_type": "markdown",
   "id": "353cb230-406e-466b-a85b-af69530c155f",
   "metadata": {},
   "source": [
    "## Dualpol inversion\n",
    "\n",
    "Dualpol give better wind inversion results.\n",
    "\n",
    "Dualpol inversion also returns copol wind."
   ]
  },
  {
   "cell_type": "code",
   "execution_count": null,
   "id": "af0841b0-b5a4-42d8-994d-360cecd32797",
   "metadata": {},
   "outputs": [],
   "source": [
    "sarwing_luts_subset_path = xsarsea.get_test_file('sarwing_luts_subset')\n",
    "windspeed.register_all_sarwing_luts(sarwing_luts_subset_path)\n",
    "\n",
    "windspeed_co, windspeed_dual = windspeed.invert_from_model(\n",
    "        sarwing_ds.owiIncidenceAngle,\n",
    "        sarwing_ds.owiNrcs,\n",
    "        sarwing_ds.owiNrcs_cross,\n",
    "        ancillary_wind=-np.conj(sarwing_ds.owi_ancillary_wind),\n",
    "        dsig_cr = dsig_cr,\n",
    "        model=('cmod5n','cmodms1ahw'))\n",
    "windspeed_co = np.abs(windspeed_co)\n",
    "windspeed_dual =  np.abs(windspeed_dual)"
   ]
  },
  {
   "cell_type": "markdown",
   "id": "29379eaa-c340-4f52-9586-dafecb0cfa19",
   "metadata": {},
   "source": [
    "## differences with sarwing"
   ]
  },
  {
   "cell_type": "code",
   "execution_count": null,
   "id": "0ecead16-b097-44a5-93e4-3a6dc175d0a5",
   "metadata": {},
   "outputs": [],
   "source": [
    "windspeed_diff = windspeed_dual - sarwing_ds.owiWindSpeed_Tab_dualpol_2steps\n",
    "(\n",
    "    (hv.Image(windspeed_dual).opts(title='xsarsea') + \n",
    "     hv.Image(sarwing_ds.owiWindSpeed_Tab_dualpol_2steps).opts(title='sarwing' )).opts(hv.opts.Image(cmap='jet', clim=(0,50))) +  \n",
    "    hv.Image(windspeed_diff).opts(cmap='jet', clim=(-0.5,0.5), title='xsarsea-sarwing\\nmean=%.4f std=%.4f' % (np.mean(windspeed_diff), np.std(windspeed_diff)))\n",
    ").opts(hv.opts.Image(colorbar=True, tools=['hover']))"
   ]
  },
  {
   "cell_type": "code",
   "execution_count": null,
   "id": "d21b329b-0218-4b81-8994-0e9317fe11a7",
   "metadata": {},
   "outputs": [],
   "source": []
  }
 ],
 "metadata": {
  "language_info": {
   "name": "python",
   "pygments_lexer": "ipython3"
  }
 },
 "nbformat": 4,
 "nbformat_minor": 5
}
