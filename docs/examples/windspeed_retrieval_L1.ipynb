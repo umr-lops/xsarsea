{
 "cells": [
  {
   "cell_type": "markdown",
   "id": "0",
   "metadata": {},
   "source": [
    "# Wind speed inversion from level-1 product "
   ]
  },
  {
   "cell_type": "markdown",
   "id": "1",
   "metadata": {},
   "source": [
    "> .. warning::\n",
    "   **Use of ancillary wind**\n",
    "> \n",
    "> On this notebook, we changed from `ancillary_wind = -np.conj(sarwing_ds.owi_ancillary_wind)` to `sarwing_ds.owi_ancillary_wind` ; then it won't match sarwing results anymore"
   ]
  },
  {
   "cell_type": "code",
   "execution_count": null,
   "id": "2",
   "metadata": {},
   "outputs": [],
   "source": [
    "import holoviews as hv\n",
    "import numpy as np\n",
    "import xarray as xr\n",
    "\n",
    "import xsarsea\n",
    "from xsarsea import windspeed\n",
    "\n",
    "hv.extension('bokeh')"
   ]
  },
  {
   "cell_type": "code",
   "execution_count": null,
   "id": "3",
   "metadata": {},
   "outputs": [],
   "source": [
    "# optional debug messages\n",
    "#import logging\n",
    "#logging.basicConfig()\n",
    "#logging.getLogger('xsarsea.windspeed').setLevel(logging.DEBUG) # or .setLevel(logging.INFO)"
   ]
  },
  {
   "cell_type": "markdown",
   "id": "4",
   "metadata": {},
   "source": [
    "## Requirements for inversion"
   ]
  },
  {
   "cell_type": "code",
   "execution_count": null,
   "id": "5",
   "metadata": {},
   "outputs": [],
   "source": [
    "import xsar"
   ]
  },
  {
   "cell_type": "markdown",
   "id": "6",
   "metadata": {
    "tags": []
   },
   "source": [
    "Getting metadata"
   ]
  },
  {
   "cell_type": "code",
   "execution_count": null,
   "id": "7",
   "metadata": {},
   "outputs": [],
   "source": [
    "safe_path = xsarsea.get_test_file(\"S1A_EW_GRDM_1SDV_20230217T002336_20230217T002412_047268_05AC30_Z005.SAFE\")\n",
    "s1meta = xsar.Sentinel1Meta(safe_path)"
   ]
  },
  {
   "cell_type": "code",
   "execution_count": null,
   "id": "8",
   "metadata": {},
   "outputs": [],
   "source": [
    "safe_path"
   ]
  },
  {
   "cell_type": "code",
   "execution_count": null,
   "id": "9",
   "metadata": {},
   "outputs": [],
   "source": [
    "from xsarsea.utils import _load_config\n",
    "\n",
    "config = _load_config()"
   ]
  },
  {
   "cell_type": "markdown",
   "id": "10",
   "metadata": {},
   "source": [
    "land mask:\n",
    "not applied in the doc"
   ]
  },
  {
   "cell_type": "markdown",
   "id": "11",
   "metadata": {},
   "source": [
    "## getting ancillary data"
   ]
  },
  {
   "cell_type": "code",
   "execution_count": null,
   "id": "12",
   "metadata": {},
   "outputs": [],
   "source": [
    "s1meta.set_raster('ecmwf_0100_1h',config[\"path_ecmwf_0100_1h\"])\n",
    "import datetime\n",
    "\n",
    "for ecmwf_name in ['ecmwf_0100_1h' ]:\n",
    "    ecmwf_infos = s1meta.rasters.loc[ecmwf_name]\n",
    "    ecmwf_file = ecmwf_infos['get_function'](ecmwf_infos['resource'], date=datetime.datetime.strptime(s1meta.start_date, '%Y-%m-%d %H:%M:%S.%f'))\n",
    "    print(ecmwf_file)\n",
    "    ecmwf_file = xsarsea.get_test_file(ecmwf_file[1].split('/')[-1],iszip=False)\n",
    "    map_model = { f'{ecmwf_name}_{uv}' : f'model_{uv}' for uv in ['U10', 'V10'] }"
   ]
  },
  {
   "cell_type": "code",
   "execution_count": null,
   "id": "13",
   "metadata": {},
   "outputs": [],
   "source": [
    "map_model"
   ]
  },
  {
   "cell_type": "code",
   "execution_count": null,
   "id": "14",
   "metadata": {},
   "outputs": [],
   "source": [
    "s1meta.rasters.at[\"ecmwf_0100_1h\",\"resource\"] = ecmwf_file"
   ]
  },
  {
   "cell_type": "markdown",
   "id": "15",
   "metadata": {
    "tags": []
   },
   "source": [
    "Mapping model & adding ancillary wind "
   ]
  },
  {
   "cell_type": "code",
   "execution_count": null,
   "id": "16",
   "metadata": {},
   "outputs": [],
   "source": [
    "### Loading dataset & merging ancillary\n",
    "xsar_obj = xsar.Sentinel1Dataset(s1meta, resolution='1000m')"
   ]
  },
  {
   "cell_type": "code",
   "execution_count": null,
   "id": "17",
   "metadata": {},
   "outputs": [],
   "source": [
    "dataset = xsar_obj.datatree['measurement'].to_dataset()\n",
    "dataset = dataset.rename(map_model)"
   ]
  },
  {
   "cell_type": "markdown",
   "id": "18",
   "metadata": {
    "tags": []
   },
   "source": [
    "## variables of interest\n",
    "\n",
    "creation of variables of interest for inversion \n",
    "here we could add a land/ice mask."
   ]
  },
  {
   "cell_type": "code",
   "execution_count": null,
   "id": "19",
   "metadata": {},
   "outputs": [],
   "source": [
    "### Variables of interest\n",
    "#xsar_obj.dataset['land_mask'].values = cv2.dilate(xsar_obj.dataset['land_mask'].values.astype('uint8'),np.ones((3,3),np.uint8),iterations = 3)\n",
    "#xsar_obj.dataset['sigma0_ocean'] = xr.where(xsar_obj.dataset['land_mask'], np.nan, xsar_obj.dataset['sigma0'].compute()).transpose(*xsar_obj.dataset['sigma0'].dims)\n",
    "#xsar_obj.dataset['sigma0_ocean'] = xr.where(xsar_obj.dataset['sigma0_ocean'] <= 0, 1e-15, xsar_obj.dataset['sigma0_ocean'])"
   ]
  },
  {
   "cell_type": "code",
   "execution_count": null,
   "id": "20",
   "metadata": {},
   "outputs": [],
   "source": [
    "dataset['sigma0_ocean'] = xr.where(dataset['sigma0'] <= 0, 1e-15, xsar_obj.dataset['sigma0'])\n",
    "dataset['ancillary_wind_direction'] = (90. - np.rad2deg(np.arctan2(dataset.model_V10, dataset.model_U10)) + 180) % 360\n",
    "dataset['ancillary_wind_speed'] = np.sqrt(dataset['model_U10']**2+dataset['model_V10']**2)\n",
    "dataset['ancillary_wind'] = dataset.ancillary_wind_speed * np.exp(1j * xsarsea.dir_meteo_to_sample(dataset.ancillary_wind_direction, dataset.ground_heading)) # ref antenna"
   ]
  },
  {
   "cell_type": "code",
   "execution_count": null,
   "id": "21",
   "metadata": {},
   "outputs": [],
   "source": [
    "hv.Image(dataset['sigma0_ocean'].sel(pol='VH')).opts(colorbar=True,cmap='binary',width=425, height=400, tools = ['hover'], title = \"sigma0 VH\")"
   ]
  },
  {
   "cell_type": "markdown",
   "id": "22",
   "metadata": {},
   "source": [
    "## Inversion\n"
   ]
  },
  {
   "cell_type": "markdown",
   "id": "23",
   "metadata": {},
   "source": [
    "### inversion parameters\n"
   ]
  },
  {
   "cell_type": "code",
   "execution_count": null,
   "id": "24",
   "metadata": {},
   "outputs": [],
   "source": [
    "apply_flattening = True\n",
    "GMF_VV_NAME = \"gmf_cmod5n\"\n",
    "GMF_VH_NAME = \"gmf_s1_v2\""
   ]
  },
  {
   "cell_type": "markdown",
   "id": "25",
   "metadata": {},
   "source": [
    "apply flattening or not"
   ]
  },
  {
   "cell_type": "code",
   "execution_count": null,
   "id": "26",
   "metadata": {},
   "outputs": [],
   "source": [
    "nesz_cr = dataset.nesz.isel(pol=1) #(no_flattening)\n",
    "if apply_flattening :\n",
    "    tmp = windspeed.nesz_flattening(nesz_cr, dataset.incidence)\n",
    "    tmp.name = 'nesz_VH_final'\n",
    "    print(tmp)\n",
    "    dataset=dataset.assign({'nesz_VH_final':tmp})\n",
    "    dataset['nesz_VH_final'].attrs[\"comment\"] = 'nesz has been flattened using windspeed.nesz_flattening'\n",
    "else :\n",
    "    # dataset=dataset.assign(nesz_VH_final=(['line','sample'],nesz_cr.values))\n",
    "    tmp = nesz_cr\n",
    "    tmp.name = 'nesz_VH_final'\n",
    "    dataset = dataset.assign({'nesz_VH_final':tmp})\n",
    "    dataset['nesz_VH_final'].attrs[\"comment\"] = 'nesz has not been flattened'\n",
    "dataset"
   ]
  },
  {
   "cell_type": "markdown",
   "id": "27",
   "metadata": {},
   "source": [
    "compute dsig_cr (mix between polarisations) using the last version : \"gmf_s1_v2\""
   ]
  },
  {
   "cell_type": "code",
   "execution_count": null,
   "id": "28",
   "metadata": {},
   "outputs": [],
   "source": [
    "dsig_cr = windspeed.get_dsig(\"gmf_s1_v2\", dataset.incidence,dataset.sigma0_ocean.sel(pol='VH'),dataset.nesz_VH_final)"
   ]
  },
  {
   "cell_type": "markdown",
   "id": "29",
   "metadata": {},
   "source": [
    "### retrieve windspeed & direction in dfferent polarizations"
   ]
  },
  {
   "cell_type": "markdown",
   "id": "30",
   "metadata": {},
   "source": [
    "define kwargs to parameter LUT resolution\n"
   ]
  },
  {
   "cell_type": "code",
   "execution_count": null,
   "id": "31",
   "metadata": {},
   "outputs": [],
   "source": [
    "kwargs = {\"wspd_step\" : 0.1, \"inc_step\" : 0.1, \"phi_step\" : 1.0, \"resolution\": \"high\"}"
   ]
  },
  {
   "cell_type": "markdown",
   "id": "32",
   "metadata": {
    "tags": []
   },
   "source": [
    "copol and dual polarization"
   ]
  },
  {
   "cell_type": "code",
   "execution_count": null,
   "id": "33",
   "metadata": {},
   "outputs": [],
   "source": [
    "wind_co, wind_dual = windspeed.invert_from_model(\n",
    "        dataset.incidence,\n",
    "        dataset.sigma0_ocean.isel(pol=0),\n",
    "        dataset.sigma0_ocean.isel(pol=1),\n",
    "        ancillary_wind=dataset['ancillary_wind'],\n",
    "        dsig_cr = dsig_cr,\n",
    "        model=(GMF_VV_NAME,GMF_VH_NAME),\n",
    "        ** kwargs)\n",
    "\n",
    "dataset[\"windspeed_co\"] = np.abs(wind_co)\n",
    "dataset[\"windspeed_dual\"] = np.abs(wind_dual)\n",
    "dataset['winddir_co'] = (90 - np.angle(wind_co, deg=True) + dataset.ground_heading) % 360\n",
    "dataset['winddir_dual'] = (90 - np.angle(wind_dual, deg=True) + dataset.ground_heading) % 360"
   ]
  },
  {
   "cell_type": "markdown",
   "id": "34",
   "metadata": {
    "jp-MarkdownHeadingCollapsed": true,
    "tags": []
   },
   "source": [
    "cross polarization "
   ]
  },
  {
   "cell_type": "code",
   "execution_count": null,
   "id": "35",
   "metadata": {},
   "outputs": [],
   "source": [
    "windspeed_cr = windspeed.invert_from_model(\n",
    "    dataset.incidence.values,\n",
    "    dataset.sigma0_ocean.isel(pol=1).values,\n",
    "    dsig_cr = dsig_cr.values,\n",
    "    model=GMF_VH_NAME,\n",
    "    ** kwargs)\n",
    "\n",
    "dataset = dataset.assign(\n",
    "    windspeed_cross=(['line', 'sample'], windspeed_cr))"
   ]
  },
  {
   "cell_type": "code",
   "execution_count": null,
   "id": "36",
   "metadata": {},
   "outputs": [],
   "source": [
    "windspeed_co = dataset.windspeed_co.compute()  # compute data if needed\n",
    "windspeed_cross = dataset.windspeed_cross\n",
    "windspeed_dual = dataset.windspeed_dual.compute()"
   ]
  },
  {
   "cell_type": "markdown",
   "id": "37",
   "metadata": {},
   "source": [
    "windspeeed illustration"
   ]
  },
  {
   "cell_type": "code",
   "execution_count": null,
   "id": "38",
   "metadata": {},
   "outputs": [],
   "source": [
    "import cartopy.crs as ccrs\n",
    "import cartopy.feature as cfeature\n",
    "import matplotlib.pyplot as plt\n",
    "\n",
    "projection = ccrs.PlateCarree()\n",
    "fig, axs = plt.subplots(1, 3, figsize=(18, 6), subplot_kw={'projection': projection})\n",
    "\n",
    "# Wind Speed Co-Pol\n",
    "img0 = axs[0].pcolormesh(dataset.longitude, dataset.latitude, windspeed_co, cmap='jet', vmin=0, vmax=80, transform=ccrs.PlateCarree())\n",
    "axs[0].add_feature(cfeature.COASTLINE)\n",
    "axs[0].add_feature(cfeature.BORDERS, linestyle=':')\n",
    "axs[0].set_title('Wind Speed Co-Pol')\n",
    "gl0 = axs[0].gridlines(draw_labels=True, color='gray', alpha=0.5, linestyle='--')\n",
    "gl0.top_labels = gl0.right_labels = False\n",
    "\n",
    "# Wind Speed Cr-Pol\n",
    "img1 = axs[1].pcolormesh(dataset.longitude, dataset.latitude, windspeed_cross, cmap='jet', vmin=0, vmax=80, transform=ccrs.PlateCarree())\n",
    "axs[1].add_feature(cfeature.COASTLINE)\n",
    "axs[1].add_feature(cfeature.BORDERS, linestyle=':')\n",
    "axs[1].set_title('Wind Speed Cr-Pol')\n",
    "gl1 = axs[1].gridlines(draw_labels=True, color='gray', alpha=0.5, linestyle='--')\n",
    "gl1.top_labels = gl1.right_labels = False\n",
    "\n",
    "# Wind Speed Dual-Pol\n",
    "img2 = axs[2].pcolormesh(dataset.longitude, dataset.latitude, windspeed_dual, cmap='jet', vmin=0, vmax=80, transform=ccrs.PlateCarree())\n",
    "axs[2].add_feature(cfeature.COASTLINE)\n",
    "axs[2].add_feature(cfeature.BORDERS, linestyle=':')\n",
    "axs[2].set_title('Wind Speed Dual-Pol')\n",
    "gl2 = axs[2].gridlines(draw_labels=True, color='gray', alpha=0.5, linestyle='--')\n",
    "gl2.top_labels = gl2.right_labels = False\n",
    "\n",
    "fig.colorbar(img0, ax=axs, orientation='horizontal', fraction=0.02, pad=0.1, aspect=40)\n",
    "plt.show()\n"
   ]
  },
  {
   "cell_type": "markdown",
   "id": "39",
   "metadata": {},
   "source": [
    "winddir illustration"
   ]
  },
  {
   "cell_type": "code",
   "execution_count": null,
   "id": "40",
   "metadata": {},
   "outputs": [],
   "source": [
    "sub_ds = dataset.sel(pol='VV').isel(sample=slice(None, None, 10), line=slice(None, None, 10))\n",
    "\n",
    "vectorfield = hv.VectorField(\n",
    "    (\n",
    "        sub_ds.sample, sub_ds.line,\n",
    "        xsarsea.dir_meteo_to_sample(sub_ds.winddir_dual,sub_ds.ground_heading),\n",
    "        sub_ds.windspeed_dual\n",
    "    )\n",
    ")\n",
    "\n",
    "hv.Image(dataset.windspeed_dual, kdims=['sample','line']).opts(title='speed and dir', clim=(0,50), cmap='jet') * vectorfield\n"
   ]
  },
  {
   "cell_type": "code",
   "execution_count": null,
   "id": "41",
   "metadata": {},
   "outputs": [],
   "source": [
    "sub_ds = dataset.sel(pol='VV').isel(sample=slice(None, None, 10), line=slice(None, None, 10))\n",
    "\n",
    "vectorfield = hv.VectorField(\n",
    "    (\n",
    "        sub_ds.sample, sub_ds.line,\n",
    "        xsarsea.dir_meteo_to_sample(sub_ds.ancillary_wind_direction,sub_ds.ground_heading),\n",
    "        sub_ds.ancillary_wind_speed\n",
    "    )\n",
    ")\n",
    "\n",
    "hv.Image(dataset.ancillary_wind_speed, kdims=['sample','line']).opts(title='ECMWF speed and dir', clim=(0,50), cmap='jet') * vectorfield\n"
   ]
  },
  {
   "cell_type": "code",
   "execution_count": null,
   "id": "42",
   "metadata": {},
   "outputs": [],
   "source": []
  },
  {
   "cell_type": "markdown",
   "id": "43",
   "metadata": {},
   "source": [
    "## saving"
   ]
  },
  {
   "cell_type": "markdown",
   "id": "44",
   "metadata": {},
   "source": [
    "delete useless variables"
   ]
  },
  {
   "cell_type": "code",
   "execution_count": null,
   "id": "45",
   "metadata": {},
   "outputs": [],
   "source": [
    "# prepare dataset for netcdf export\n",
    "\n",
    "dataset['sigma0_ocean_VV'] = dataset['sigma0_ocean'].sel(pol='VV')\n",
    "dataset['sigma0_ocean_VH'] = dataset['sigma0_ocean'].sel(pol='VH')\n",
    "\n",
    "\n",
    "black_list = ['model_U10', 'model_V10', 'digital_number', 'gamma0_raw', 'negz',\n",
    "              'azimuth_time', 'slant_range_time', 'velocity', 'range_ground_spacing',\n",
    "              'gamma0', 'time', 'sigma0', 'nesz', 'sigma0_raw', 'sigma0_ocean', 'altitude', 'elevation',\n",
    "              'nd_co', 'nd_cr']\n",
    "\n",
    "variables = list(set(dataset) - set(black_list))\n",
    "dataset = dataset[variables]"
   ]
  },
  {
   "cell_type": "markdown",
   "id": "46",
   "metadata": {},
   "source": [
    "remove complex"
   ]
  },
  {
   "cell_type": "code",
   "execution_count": null,
   "id": "47",
   "metadata": {},
   "outputs": [],
   "source": [
    "del dataset['ancillary_wind']"
   ]
  },
  {
   "cell_type": "code",
   "execution_count": null,
   "id": "48",
   "metadata": {},
   "outputs": [],
   "source": [
    "ds_1000 = dataset.compute()\n",
    "ds_1000"
   ]
  },
  {
   "cell_type": "code",
   "execution_count": null,
   "id": "49",
   "metadata": {},
   "outputs": [],
   "source": [
    "#ds_1000.to_netcdf(\"my_L2_product.nc\")"
   ]
  }
 ],
 "metadata": {
  "kernelspec": {
   "display_name": "Python 3 (ipykernel)",
   "language": "python",
   "name": "python3"
  },
  "language_info": {
   "codemirror_mode": {
    "name": "ipython",
    "version": 3
   },
   "file_extension": ".py",
   "mimetype": "text/x-python",
   "name": "python",
   "nbconvert_exporter": "python",
   "pygments_lexer": "ipython3",
   "version": "3.11.0"
  }
 },
 "nbformat": 4,
 "nbformat_minor": 5
}
