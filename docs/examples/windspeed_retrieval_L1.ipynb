{
 "cells": [
  {
   "cell_type": "markdown",
   "id": "fd90b4bb-b6e6-4a82-8529-f1768e66e3fd",
   "metadata": {},
   "source": [
    "# Wind speed inversion from level-1 product "
   ]
  },
  {
   "cell_type": "code",
   "execution_count": null,
   "id": "cc7e5e16-f320-4641-856e-43584913416f",
   "metadata": {},
   "outputs": [],
   "source": [
    "import xsarsea\n",
    "from xsarsea import windspeed\n",
    "import xarray as xr\n",
    "import numpy as np\n",
    "import holoviews as hv\n",
    "hv.extension('bokeh')\n",
    "\n",
    "import os,sys,re, cv2"
   ]
  },
  {
   "cell_type": "code",
   "execution_count": null,
   "id": "ee5ca192-3120-4a5b-b5f2-4fce5218e90f",
   "metadata": {},
   "outputs": [],
   "source": [
    "# optional debug messages\n",
    "#import logging\n",
    "#logging.basicConfig()\n",
    "#logging.getLogger('xsarsea.windspeed').setLevel(logging.DEBUG) # or .setLevel(logging.INFO)"
   ]
  },
  {
   "cell_type": "markdown",
   "id": "fa29e9e0-ed13-4448-bdbe-c61a6b2f33e3",
   "metadata": {},
   "source": [
    "## Requirements for inversion\n",
    "xsar is required"
   ]
  },
  {
   "cell_type": "code",
   "execution_count": null,
   "id": "8a9aa398-b5f9-4a08-980e-521ecf819545",
   "metadata": {},
   "outputs": [],
   "source": [
    "import xsar"
   ]
  },
  {
   "cell_type": "markdown",
   "id": "5f36bebe-e748-4d35-af29-a3abae080bf8",
   "metadata": {
    "tags": []
   },
   "source": [
    "Getting metadata"
   ]
  },
  {
   "cell_type": "code",
   "execution_count": null,
   "id": "85515210-8547-42f7-bd18-91c711aad538",
   "metadata": {},
   "outputs": [],
   "source": [
    "safe_path = xsarsea.get_test_file(\"S1A_EW_GRDM_1SDV_20230217T002336_20230217T002412_047268_05AC30_Z005.SAFE\")\n",
    "s1meta = xsar.Sentinel1Meta(safe_path)"
   ]
  },
  {
   "cell_type": "markdown",
   "id": "61aef250-21df-44c2-b7da-98a184b54b46",
   "metadata": {},
   "source": [
    "land mask:\n",
    "not applied yet "
   ]
  },
  {
   "cell_type": "markdown",
   "id": "95eb760f-20fc-4fa6-b556-c5804a7e06d4",
   "metadata": {},
   "source": [
    "getting associated ancillary data (ecmwf)"
   ]
  },
  {
   "cell_type": "code",
   "execution_count": null,
   "id": "9b5ede7a-4f28-45c6-884f-c09c6df88741",
   "metadata": {},
   "outputs": [],
   "source": [
    "s1meta.set_raster('ecmwf_0100_1h','/home/datawork-cersat-public/provider/ecmwf/forecast/hourly/0100deg/netcdf_light/%Y/%j/ECMWF_FORECAST_0100_%Y%m%d%H%M_10U_10V.nc')\n",
    "import datetime\n",
    "for ecmwf_name in ['ecmwf_0100_1h' ]:\n",
    "    ecmwf_infos = s1meta.rasters.loc[ecmwf_name]\n",
    "    ecmwf_file = ecmwf_infos['get_function'](ecmwf_infos['resource'], date=datetime.datetime.strptime(s1meta.start_date, '%Y-%m-%d %H:%M:%S.%f'))\n",
    "    ecmwf_file = xsarsea.get_test_file(ecmwf_file.split('/')[-1],iszip=False)\n",
    "    map_model = { '%s_%s' % (ecmwf_name, uv) : 'model_%s' % uv for uv in ['U10', 'V10'] }"
   ]
  },
  {
   "cell_type": "code",
   "execution_count": null,
   "id": "ad9df470-2d47-4a3c-947c-e350df90facf",
   "metadata": {},
   "outputs": [],
   "source": [
    "map_model"
   ]
  },
  {
   "cell_type": "code",
   "execution_count": null,
   "id": "9a065ee2-c7bd-4fbd-bcc8-78c2ce80b0cd",
   "metadata": {},
   "outputs": [],
   "source": [
    "s1meta.rasters.at[\"ecmwf_0100_1h\",\"resource\"] = ecmwf_file"
   ]
  },
  {
   "cell_type": "markdown",
   "id": "f770e5ab-680f-4fd1-913a-aeb91c642e79",
   "metadata": {
    "tags": []
   },
   "source": [
    "Mapping model & adding ancillary wind "
   ]
  },
  {
   "cell_type": "code",
   "execution_count": null,
   "id": "f32a7e32-2bba-42c6-b33b-a8d61b281188",
   "metadata": {},
   "outputs": [],
   "source": [
    "### Loading dataset & merging ancillary\n",
    "xsar_obj_1000m = xsar.Sentinel1Dataset(s1meta, resolution='1000m')"
   ]
  },
  {
   "cell_type": "code",
   "execution_count": null,
   "id": "1567f7dd-fb38-412c-a0d5-830a23803ecd",
   "metadata": {},
   "outputs": [],
   "source": [
    "dataset_1000m = xsar_obj_1000m.datatree['measurement'].to_dataset()\n",
    "dataset_1000m = dataset_1000m.rename(map_model)"
   ]
  },
  {
   "cell_type": "markdown",
   "id": "74c43fa8-2b9d-4ea6-a5b4-c52e1737226d",
   "metadata": {
    "tags": []
   },
   "source": [
    "creation of variables of interest for inversion \n",
    "\n",
    "here we could add a land/ice mask."
   ]
  },
  {
   "cell_type": "code",
   "execution_count": null,
   "id": "092961ad-6002-41ee-950d-565e4391c44f",
   "metadata": {},
   "outputs": [],
   "source": [
    "### Variables of interest \n",
    "#xsar_obj_1000m.dataset['land_mask'].values = cv2.dilate(xsar_obj_1000m.dataset['land_mask'].values.astype('uint8'),np.ones((3,3),np.uint8),iterations = 3)\n",
    "#xsar_obj_1000m.dataset['sigma0_ocean'] = xr.where(xsar_obj_1000m.dataset['land_mask'], np.nan, xsar_obj_1000m.dataset['sigma0'].compute()).transpose(*xsar_obj_1000m.dataset['sigma0'].dims)\n",
    "#xsar_obj_1000m.dataset['sigma0_ocean'] = xr.where(xsar_obj_1000m.dataset['sigma0_ocean'] <= 0, 1e-15, xsar_obj_1000m.dataset['sigma0_ocean'])"
   ]
  },
  {
   "cell_type": "code",
   "execution_count": null,
   "id": "73f2e4a8-005b-40d2-a3c6-f01d261d6caa",
   "metadata": {},
   "outputs": [],
   "source": [
    "dataset_1000m['sigma0_ocean'] = xr.where(dataset_1000m['sigma0'] <= 0, 1e-15, xsar_obj_1000m.dataset['sigma0'])\n",
    "dataset_1000m['ancillary_wind'] = (dataset_1000m.model_U10 + 1j * dataset_1000m.model_V10) * np.exp(1j * np.deg2rad(dataset_1000m.ground_heading))\n",
    "dataset_1000m['ancillary_wind'] = xr.where(dataset_1000m['land_mask'], np.nan, dataset_1000m['ancillary_wind'].compute()).transpose(*dataset_1000m['ancillary_wind'].dims)\n",
    "dataset_1000m.attrs['ancillary_source'] = dataset_1000m['model_U10'].attrs['history'].split('decoded: ')[1].strip()"
   ]
  },
  {
   "cell_type": "code",
   "execution_count": null,
   "id": "ab6639ba-be9b-4736-99d0-c65ab338b72f",
   "metadata": {},
   "outputs": [],
   "source": [
    "hv.Image(dataset_1000m['sigma0_ocean'].sel(pol='VH')).opts(colorbar=True,cmap='binary',width=125, height=100, tools = ['hover'], title = \"sigma0 VH\")"
   ]
  },
  {
   "cell_type": "markdown",
   "id": "00eb8706-f7cc-419a-97c9-5898178926bc",
   "metadata": {},
   "source": [
    "## Inversion"
   ]
  },
  {
   "cell_type": "markdown",
   "id": "dc83dd2b-44ff-46ab-b360-a77c52ed2ce3",
   "metadata": {},
   "source": [
    "### inversion parameters"
   ]
  },
  {
   "cell_type": "code",
   "execution_count": null,
   "id": "215d686d-0a5a-4326-9d5d-40a2327dc624",
   "metadata": {},
   "outputs": [],
   "source": [
    "apply_flattening = True\n",
    "GMF_VH_NAME = \"gmf_s1_v2\""
   ]
  },
  {
   "cell_type": "markdown",
   "id": "9e1e65b8-2d63-4942-901a-9ae71df8dbde",
   "metadata": {},
   "source": [
    "apply flattening or not"
   ]
  },
  {
   "cell_type": "code",
   "execution_count": null,
   "id": "e03f542e-b101-434c-9cc7-6136cf5734a1",
   "metadata": {},
   "outputs": [],
   "source": [
    "nesz_cr = dataset_1000m.nesz.isel(pol=1) #(no_flattening)\n",
    "if apply_flattening : \n",
    "    dataset_1000m=dataset_1000m.assign(nesz_VH_final=(['line','sample'],windspeed.nesz_flattening(nesz_cr, dataset_1000m.incidence)))\n",
    "    dataset_1000m['nesz_VH_final'].attrs[\"comment\"] = 'nesz has been flattened using windspeed.nesz_flattening'\n",
    "else :\n",
    "    dataset_1000m=dataset_1000m.assign(nesz_VH_final=(['line','sample'],nesz_cr.values))\n",
    "    dataset_1000m['nesz_VH_final'].attrs[\"comment\"] = 'nesz has not been flattened'"
   ]
  },
  {
   "cell_type": "markdown",
   "id": "aa768465-b693-43ba-b235-faa948fb664f",
   "metadata": {},
   "source": [
    "compute dsig_cr (mix between polarisations) using the last version : \"gmf_s1_v2\""
   ]
  },
  {
   "cell_type": "code",
   "execution_count": null,
   "id": "eb3112c3-dcd1-4090-949a-6aff7f42a675",
   "metadata": {},
   "outputs": [],
   "source": [
    "dsig_cr = windspeed.get_dsig(\"gmf_s1_v2\", dataset_1000m.incidence,dataset_1000m.sigma0_ocean.sel(pol='VH'),dataset_1000m.nesz_VH_final)"
   ]
  },
  {
   "cell_type": "markdown",
   "id": "20801efb-5870-47d9-8fb1-bb3e499f9a34",
   "metadata": {},
   "source": [
    "### get windspeed in dfferent polarizations"
   ]
  },
  {
   "cell_type": "markdown",
   "id": "bc635f8f-c036-45f7-8587-729af7ad6716",
   "metadata": {
    "tags": []
   },
   "source": [
    "CO and DUAL"
   ]
  },
  {
   "cell_type": "code",
   "execution_count": null,
   "id": "840ef5f7-75ca-472d-a2b2-602d0bffff59",
   "metadata": {},
   "outputs": [],
   "source": [
    "windspeed_co, windspeed_dual = windspeed.invert_from_model(\n",
    "        dataset_1000m.incidence,\n",
    "        dataset_1000m.sigma0_ocean.isel(pol=0),\n",
    "        dataset_1000m.sigma0_ocean.isel(pol=1),\n",
    "        #ancillary_wind=-np.conj(xsar_obj_1000m.dataset['ancillary_wind']),\n",
    "        ancillary_wind=-dataset_1000m['ancillary_wind'],\n",
    "        dsig_cr = dsig_cr,\n",
    "        model=('cmod5n',GMF_VH_NAME))\n",
    "\n",
    "dataset_1000m[\"windspeed_co\"] = np.abs(windspeed_co)\n",
    "dataset_1000m[\"windspeed_co\"].attrs[\"comment\"] = dataset_1000m[\"windspeed_co\"].attrs[\"comment\"].replace(\"wind speed and direction\",\"wind speed\")\n",
    "dataset_1000m[\"windspeed_dual\"] = np.abs(windspeed_dual)\n",
    "dataset_1000m[\"windspeed_dual\"].attrs[\"comment\"] = dataset_1000m[\"windspeed_dual\"].attrs[\"comment\"].replace(\"wind speed and direction\",\"wind speed\")"
   ]
  },
  {
   "cell_type": "markdown",
   "id": "fae99bae-91bc-4d96-b62d-58e9a5bc31ef",
   "metadata": {
    "jp-MarkdownHeadingCollapsed": true,
    "tags": []
   },
   "source": [
    "CR"
   ]
  },
  {
   "cell_type": "code",
   "execution_count": null,
   "id": "21c668a2-bb80-4a6f-bc1c-381d50fa7595",
   "metadata": {},
   "outputs": [],
   "source": [
    "windspeed_cr = windspeed.invert_from_model(\n",
    "    dataset_1000m.incidence.values,\n",
    "    dataset_1000m.sigma0_ocean.isel(pol=1).values,\n",
    "    #ancillary_wind=-np.conj(xsar_obj_1000m.dataset['ancillary_wind']),\n",
    "    dsig_cr = dsig_cr.values,\n",
    "    model=GMF_VH_NAME)\n",
    "\n",
    "windspeed_cr = np.abs(windspeed_cr)\n",
    "dataset_1000m=dataset_1000m.assign(windspeed_cr=(['line','sample'],windspeed_cr))\n",
    "dataset_1000m.windspeed_cr.attrs['comment'] = \"wind speed inverted from model %s (%s)\" % (GMF_VH_NAME, \"VH\")\n",
    "dataset_1000m.windspeed_cr.attrs['model'] = GMF_VH_NAME\n",
    "dataset_1000m.windspeed_cr.attrs['units'] = 'm/s'"
   ]
  },
  {
   "cell_type": "markdown",
   "id": "7cecc22f-f6be-43ad-bb72-0e243e3b15a9",
   "metadata": {},
   "source": [
    "illustration"
   ]
  },
  {
   "cell_type": "code",
   "execution_count": null,
   "id": "0c758117-3b17-441d-b494-4fb072ca5965",
   "metadata": {},
   "outputs": [],
   "source": [
    "hv.Image(dataset_1000m.windspeed_co.compute(), label='wind speed co-pol').opts(cmap='jet',colorbar=True,clim=(0,80),height=100, width=125) + \\\n",
    "hv.Image(dataset_1000m.windspeed_cr, label='wind speed cr-pol').opts(cmap='jet',colorbar=True,clim=(0,80),height=100, width=125) + \\\n",
    "hv.Image(dataset_1000m.windspeed_dual.compute(), label='wind speed dual-pol').opts(cmap='jet',colorbar=True,clim=(0,80),height=100, width=125)"
   ]
  },
  {
   "cell_type": "markdown",
   "id": "93e46998-9c0e-4e55-ac62-b13a7393f907",
   "metadata": {},
   "source": [
    "### save as a level-2 netcdf"
   ]
  },
  {
   "cell_type": "markdown",
   "id": "107f4ea6-ebda-48f5-8166-80974064528f",
   "metadata": {},
   "source": [
    "delete useless variables"
   ]
  },
  {
   "cell_type": "code",
   "execution_count": null,
   "id": "f6f48f82-5c11-4b3c-8a1e-410808c758a6",
   "metadata": {},
   "outputs": [],
   "source": [
    "# prepare dataset for netcdf export\n",
    "black_list = ['model_U10', 'model_V10', 'digital_number', 'gamma0_raw', 'negz',\n",
    "              'azimuth_time', 'slant_range_time', 'velocity', 'range_ground_spacing',\n",
    "              'gamma0', 'time', 'sigma0', 'nesz', 'sigma0_raw', 'sigma0_ocean', 'altitude', 'elevation',\n",
    "              'nd_co', 'nd_cr']\n",
    "\n",
    "variables = list(set(dataset_1000m) - set(black_list))\n",
    "dataset_1000m = dataset_1000m[variables]"
   ]
  },
  {
   "cell_type": "markdown",
   "id": "8ec01db2-1d85-46c7-a2f1-af3529774a45",
   "metadata": {},
   "source": [
    "remove complex"
   ]
  },
  {
   "cell_type": "code",
   "execution_count": null,
   "id": "79f31558-4198-4e69-876f-1209288893dc",
   "metadata": {},
   "outputs": [],
   "source": [
    "dataset_1000m['ancillary_wind_spd'] = np.abs(dataset_1000m['ancillary_wind'])\n",
    "dataset_1000m=dataset_1000m.assign(ancillary_wind_dir=(['line','sample'],np.angle(dataset_1000m['ancillary_wind']))) \n",
    "#dataset_1000m['ancillary_wind_dir'] = xr.ufuncs.angle(dataset_1000m['ancillary_wind'])\n",
    "dataset_1000m['ancillary_wind_dir'].attrs['comment'] = 'angle in radians, anticlockwise, 0=xtrack'\n",
    "del dataset_1000m['ancillary_wind']"
   ]
  },
  {
   "cell_type": "code",
   "execution_count": null,
   "id": "90a5642d-da93-4b2d-9372-c75099271f5a",
   "metadata": {},
   "outputs": [],
   "source": [
    "ds_1000 = dataset_1000m.compute()\n",
    "ds_1000.attrs['footprint'] = str(xsar_obj_1000m.dataset.attrs['footprint'])\n",
    "# encode gcps as json string\n",
    "import json\n",
    "class JSONEncoder(json.JSONEncoder):\n",
    "    def default(self, obj):\n",
    "        if isinstance(obj, np.integer):\n",
    "            return int(obj)\n",
    "\n",
    "json_gcps = json.dumps(json.loads(json.dumps(ds_1000.line.spatial_ref.gcps,cls=JSONEncoder)))\n",
    "ds_1000['line']['spatial_ref'].attrs['gcps'] = json_gcps\n",
    "ds_1000['sample']['spatial_ref'].attrs['gcps'] = json_gcps"
   ]
  },
  {
   "cell_type": "code",
   "execution_count": null,
   "id": "38c5258f-9b0a-4b8f-bbc9-964c357a92cb",
   "metadata": {},
   "outputs": [],
   "source": [
    "ds_1000"
   ]
  },
  {
   "cell_type": "code",
   "execution_count": null,
   "id": "f5c112c7-ee96-40f8-8935-037b746b3629",
   "metadata": {},
   "outputs": [],
   "source": [
    "#ds_1000.to_netcdf(\"my_L2_product\")"
   ]
  }
 ],
 "metadata": {
  "kernelspec": {
   "display_name": "Python 3 (ipykernel)",
   "language": "python",
   "name": "python3"
  },
  "language_info": {
   "codemirror_mode": {
    "name": "ipython",
    "version": 3
   },
   "file_extension": ".py",
   "mimetype": "text/x-python",
   "name": "python",
   "nbconvert_exporter": "python",
   "pygments_lexer": "ipython3",
   "version": "3.10.9"
  }
 },
 "nbformat": 4,
 "nbformat_minor": 5
}
