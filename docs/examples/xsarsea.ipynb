{
 "cells": [
  {
   "cell_type": "markdown",
   "metadata": {},
   "source": [
    "# Xsarsea example\n",
    "\n",
    "The Normalized Radar Cross Section (sigma0) as computed from Level-1 SAR data can be detrended in the case of ocean scenes. \n",
    "\n",
    "The goal is to remove the averaged trend (decreasing) of the NRCS with (increasing) incidence angle observed for acquisitions over ocean. \n",
    "\n",
    "The detrend maximizes the contrasts in the image due to geophysical phenomena and improves the visualization experience of ocean scenes. \n",
    "\n",
    "**Sigma0_detrend** is also termed **image roughness** or **nice display**."
   ]
  },
  {
   "cell_type": "code",
   "execution_count": null,
   "metadata": {},
   "outputs": [],
   "source": [
    "import xsar\n",
    "import xsarsea"
   ]
  },
  {
   "cell_type": "code",
   "execution_count": null,
   "metadata": {},
   "outputs": [],
   "source": [
    "# use holoviews for plots\n",
    "import bokeh.io\n",
    "bokeh.io.output_notebook()\n",
    "import holoviews as hv\n",
    "hv.extension('bokeh')\n",
    "from holoviews.operation.datashader import datashade,rasterize"
   ]
  },
  {
   "cell_type": "code",
   "execution_count": null,
   "metadata": {},
   "outputs": [],
   "source": [
    "# optional debug message\n",
    "import logging\n",
    "logging.basicConfig()\n",
    "logging.getLogger('xsarsea').setLevel(logging.INFO) # .setLevel(logging.DEBUG) for more messages"
   ]
  },
  {
   "cell_type": "markdown",
   "metadata": {},
   "source": [
    "## read the dataset with xsar"
   ]
  },
  {
   "cell_type": "code",
   "execution_count": null,
   "metadata": {},
   "outputs": [],
   "source": [
    "# get test file. You can replace with an path to other SAFE\n",
    "filename = xsar.get_test_file('S1A_IW_GRDH_1SDV_20170907T103020_20170907T103045_018268_01EB76_Z010.SAFE')\n",
    "filename"
   ]
  },
  {
   "cell_type": "code",
   "execution_count": null,
   "metadata": {},
   "outputs": [],
   "source": [
    "# open the dataset with xsar\n",
    "sar_ds = xsar.open_dataset(filename, resolution='1000m')\n",
    "sar_ds[['longitude','latitude','sigma0','incidence']]\n"
   ]
  },
  {
   "cell_type": "markdown",
   "metadata": {},
   "source": [
    "## Sigma0 detrending with xsarsea\n",
    "\n",
    "Sigma0 detrending is done by  [xsarsea.sigma0_detrend](../basic_api.rst#xsarsea.sigma0_detrend) function\n",
    "\n",
    "As the resulting xarray dataset have the same coordinates as the original sigma0, we can add a `sigma0_detrend` variable to the dataset.\n"
   ]
  },
  {
   "cell_type": "markdown",
   "metadata": {},
   "source": [
    "By default, analytical models are available. We load all luts : \n",
    "<span style=\"color:red\">replace paths by your own path containing all luts</span>\n",
    "\n",
    "\n"
   ]
  },
  {
   "cell_type": "code",
   "execution_count": null,
   "metadata": {},
   "outputs": [],
   "source": [
    "nc_luts_path = xsarsea.get_test_file('nc_luts_reduce')\n",
    "path_cmod7 = xsarsea.get_test_file(\"cmod7_and_python_script\")\n",
    "xsarsea.windspeed.register_luts(nc_luts_path, path_cmod7)\n",
    "xsarsea.windspeed.available_models()"
   ]
  },
  {
   "cell_type": "markdown",
   "metadata": {},
   "source": [
    "### default detrend with gmf_cmod5n"
   ]
  },
  {
   "cell_type": "code",
   "execution_count": null,
   "metadata": {},
   "outputs": [],
   "source": [
    "sar_ds['sigma0'] = sar_ds.sigma0\n",
    "sar_ds['sigma0_detrend'] = xsarsea.sigma0_detrend(sar_ds.sigma0, sar_ds.incidence)"
   ]
  },
  {
   "cell_type": "code",
   "execution_count": null,
   "metadata": {},
   "outputs": [],
   "source": [
    "original_sigma0_plot = hv.Image(sar_ds.sigma0.sel(pol='VV')).opts(\n",
    "    title=\"Original Sigma0\",\n",
    "    cmap='gray',\n",
    "    clim=(0, 0.4),\n",
    "    colorbar=True,\n",
    "    width=400,\n",
    "    height=400,\n",
    "    tools=['hover']\n",
    ")\n",
    "\n",
    "detrended_sigma0_plot = hv.Image(sar_ds.sigma0_detrend.isel(pol=0)).opts(\n",
    "    title=\"Detrended Sigma0\",\n",
    "    cmap='gray',\n",
    "    clim=(0, 0.4),\n",
    "    colorbar=True,\n",
    "    width=400,\n",
    "    height=400,\n",
    "    tools=['hover']\n",
    ")\n",
    "\n",
    "(original_sigma0_plot + detrended_sigma0_plot).cols(2)"
   ]
  },
  {
   "cell_type": "markdown",
   "metadata": {},
   "source": [
    "### custom detrend\n",
    "\n",
    "very small differences"
   ]
  },
  {
   "cell_type": "code",
   "execution_count": null,
   "metadata": {},
   "outputs": [],
   "source": [
    "detrend_vv_gmf_cmod7 = xsarsea.sigma0_detrend(sar_ds.sigma0.sel(pol='VV'), sar_ds.incidence, model='gmf_cmod7')\n",
    "detrend_vv_gmf_cmod5 = xsarsea.sigma0_detrend(sar_ds.sigma0.sel(pol='VV'), sar_ds.incidence, model='gmf_cmod5')\n",
    "detrend_vv_gmf_cmod5n = xsarsea.sigma0_detrend(sar_ds.sigma0.sel(pol='VV'), sar_ds.incidence, model='gmf_cmod5n')\n",
    "## HH GMF \n",
    "detrend_vv_gmf_cmod5n_zhangA = xsarsea.sigma0_detrend(sar_ds.sigma0.sel(pol='VV'), sar_ds.incidence, model='cmod5n_Rlow_hh_zhangA')\n"
   ]
  },
  {
   "cell_type": "code",
   "execution_count": null,
   "metadata": {},
   "outputs": [],
   "source": [
    "import matplotlib.pyplot as plt\n",
    "from mpl_toolkits.axes_grid1 import make_axes_locatable\n",
    "import numpy as np\n",
    "\n",
    "fig, axs = plt.subplots(1, 4, figsize=(20, 5))  \n",
    "\n",
    "datasets = [detrend_vv_gmf_cmod7, detrend_vv_gmf_cmod5, detrend_vv_gmf_cmod5n, detrend_vv_gmf_cmod5n_zhangA]\n",
    "titles = ['GMF CMOD7', 'GMF CMOD5', 'GMF CMOD5N', 'GMF CMOD5N ZhangA']\n",
    "\n",
    "for ax, data, title in zip(axs, datasets, titles):\n",
    "    img = ax.pcolormesh(sar_ds.longitude, sar_ds.latitude, data, cmap='gray', vmin=0, vmax=0.4) \n",
    "    ax.set_title(title)\n",
    "    ax.set_xlabel(\"longitude\")\n",
    "    ax.set_ylabel(\"latitude\")\n",
    "    divider = make_axes_locatable(ax)\n",
    "    cax = divider.append_axes(\"right\", size=\"5%\", pad=0.05)\n",
    "    plt.colorbar(img, cax=cax)\n",
    "\n",
    "# Improve spacing between plots\n",
    "plt.tight_layout()\n",
    "plt.show()\n"
   ]
  },
  {
   "cell_type": "code",
   "execution_count": null,
   "metadata": {},
   "outputs": [],
   "source": []
  }
 ],
 "metadata": {
  "kernelspec": {
   "display_name": "Python 3 (ipykernel)",
   "language": "python",
   "name": "python3"
  },
  "language_info": {
   "codemirror_mode": {
    "name": "ipython",
    "version": 3
   },
   "file_extension": ".py",
   "mimetype": "text/x-python",
   "name": "python",
   "nbconvert_exporter": "python",
   "pygments_lexer": "ipython3",
   "version": "3.10.12"
  }
 },
 "nbformat": 4,
 "nbformat_minor": 4
}
